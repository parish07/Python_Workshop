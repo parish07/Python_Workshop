{
 "cells": [
  {
   "cell_type": "markdown",
   "metadata": {},
   "source": [
    "# Example of Data Analysis with Python"
   ]
  },
  {
   "cell_type": "code",
   "execution_count": null,
   "metadata": {},
   "outputs": [],
   "source": [
    "# Import Required Libraries\n",
    "import pandas as pd\n",
    "import matplotlib.pyplot as plt\n",
    "import seaborn as sns # Library for data visualization\n",
    "%matplotlib inline\n",
    "\n",
    "sns.set(style=\"darkgrid\")"
   ]
  },
  {
   "cell_type": "markdown",
   "metadata": {},
   "source": [
    "# Load the Fortune 500 data-set in CSV file which contains rating of Forune 500 companies for 50 years from 1955"
   ]
  },
  {
   "cell_type": "code",
   "execution_count": null,
   "metadata": {},
   "outputs": [],
   "source": [
    "#df = pd.read_csv(r\"C:\\Users\\santosh.d\\Desktop\\Fortune_500US.csv\",encoding = 'ISO-8859-1')\n",
    "df = pd.read_csv(r\"C:\\Users\\santosh.d\\Desktop\\fortune50050.csv\")"
   ]
  },
  {
   "cell_type": "code",
   "execution_count": null,
   "metadata": {},
   "outputs": [],
   "source": [
    "df"
   ]
  },
  {
   "cell_type": "code",
   "execution_count": null,
   "metadata": {},
   "outputs": [],
   "source": [
    "df.head() #print first 5 values"
   ]
  },
  {
   "cell_type": "code",
   "execution_count": null,
   "metadata": {},
   "outputs": [],
   "source": [
    "df.tail() #print last 5 values"
   ]
  },
  {
   "cell_type": "markdown",
   "metadata": {},
   "source": [
    "# To have better control on colloumns we will change the name of the colloumns by removing special characters and spaces"
   ]
  },
  {
   "cell_type": "code",
   "execution_count": null,
   "metadata": {},
   "outputs": [],
   "source": [
    "#df.columns = ['rank', 'company', 'Employee', 'PrevRanK', 'Revenues','RevenueChange', 'Profits', 'ProfitChange', 'Assets', 'MarketVale']\n",
    "df.columns = ['year', 'rank','company','revenue','profit']\n"
   ]
  },
  {
   "cell_type": "code",
   "execution_count": null,
   "metadata": {},
   "outputs": [],
   "source": [
    "df.head()"
   ]
  },
  {
   "cell_type": "code",
   "execution_count": null,
   "metadata": {},
   "outputs": [],
   "source": [
    "df.dtypes"
   ]
  },
  {
   "cell_type": "markdown",
   "metadata": {},
   "source": [
    "# Clean the data-set\n"
   ]
  },
  {
   "cell_type": "code",
   "execution_count": null,
   "metadata": {},
   "outputs": [],
   "source": [
    "df1=df\n",
    "#df1=~df.profit.str.contains('N.A.')\n",
    "df1=df.profit.str.contains(\"[0-9]+\")\n",
    "df2=df[df1] # copy with numerical values in profit colooumn\n",
    "df_missing=df[~df1]\n",
    "df2"
   ]
  },
  {
   "cell_type": "markdown",
   "metadata": {},
   "source": [
    "# Plot the histogram of the missing values in Profit Coloumn year wise"
   ]
  },
  {
   "cell_type": "code",
   "execution_count": null,
   "metadata": {},
   "outputs": [],
   "source": [
    "bins = plt.hist(df_missing.year, bins=range(1955, 2006))"
   ]
  },
  {
   "cell_type": "markdown",
   "metadata": {},
   "source": [
    "# Create a year-wise group to calculate mean profite and revenues"
   ]
  },
  {
   "cell_type": "code",
   "execution_count": null,
   "metadata": {},
   "outputs": [],
   "source": [
    "df2.profit=df2.profit.apply(pd.to_numeric)\n",
    "df_grouped=df2.loc[:,:].groupby('year')"
   ]
  },
  {
   "cell_type": "code",
   "execution_count": null,
   "metadata": {},
   "outputs": [],
   "source": [
    "df_grouped.size()"
   ]
  },
  {
   "cell_type": "code",
   "execution_count": null,
   "metadata": {},
   "outputs": [],
   "source": [
    "def myplot(x,y,x_label,y_label,title):\n",
    "    plt.plot(x,y)\n",
    "    plt.xlabel(x_label)\n",
    "    plt.ylabel(y_label)\n",
    "    plt.legend()\n",
    "    plt.title(title)\n",
    "    plt.show()\n",
    "\n",
    "#plt.plot(df_grouped.revenue.std(),df_grouped.profit.std())"
   ]
  },
  {
   "cell_type": "code",
   "execution_count": null,
   "metadata": {},
   "outputs": [],
   "source": [
    "myplot(df_grouped.revenue.std(),df_grouped.profit.std(),\"Revenue Standard Deviation\",\"Profit Standard Deviation\",\"abc\")"
   ]
  },
  {
   "cell_type": "markdown",
   "metadata": {},
   "source": [
    "# Plot with Myplot Function"
   ]
  },
  {
   "cell_type": "code",
   "execution_count": null,
   "metadata": {},
   "outputs": [],
   "source": [
    "x_label=\"Revenue Standard Deviation\"\n",
    "y_label=\"Profit Standard Deviation\"\n",
    "title=\"Revenue vs Profit (Standard DEviation)\"\n",
    "myplot(df_grouped.revenue.std(),df_grouped.profit.std(),x_label,y_label,title)"
   ]
  },
  {
   "cell_type": "code",
   "execution_count": null,
   "metadata": {},
   "outputs": [],
   "source": [
    "x_label=\"Year\"\n",
    "y_label=\"Profit Mean\"\n",
    "title=\"Profit (Mean)\"\n",
    "myplot(df_grouped.mean().index,df_grouped.profit.mean(),x_label,y_label,title)"
   ]
  },
  {
   "cell_type": "code",
   "execution_count": null,
   "metadata": {},
   "outputs": [],
   "source": [
    "\n",
    "df_group_company=df2.loc[:,:].groupby('company')"
   ]
  },
  {
   "cell_type": "markdown",
   "metadata": {},
   "source": [
    "# Get slice of data frame for a company say - General Motors"
   ]
  },
  {
   "cell_type": "code",
   "execution_count": null,
   "metadata": {},
   "outputs": [],
   "source": [
    "\n",
    "df_GM=df_group_company.get_group('General Motors')\n",
    "df_GM"
   ]
  },
  {
   "cell_type": "markdown",
   "metadata": {},
   "source": [
    "# Plot the Revenue and Proift vs Years for General Motors"
   ]
  },
  {
   "cell_type": "code",
   "execution_count": null,
   "metadata": {},
   "outputs": [],
   "source": [
    "x_label=\"Year\"\n",
    "y_label=\"Profit\"\n",
    "title=\"Yearly Profit of GM from 1995 to 2005\"\n",
    "myplot(df_GM.year,df_GM.profit,x_label,y_label,title)"
   ]
  },
  {
   "cell_type": "code",
   "execution_count": null,
   "metadata": {},
   "outputs": [],
   "source": [
    "x_label=\"Year\"\n",
    "y_label=\"Revenue\"\n",
    "title=\"Yearly Revenue of GM from 1995 to 2005\"\n",
    "myplot(df_GM.year,df_GM.revenue,x_label,y_label,title)"
   ]
  },
  {
   "cell_type": "markdown",
   "metadata": {},
   "source": [
    "# Plotting Side by Side"
   ]
  },
  {
   "cell_type": "code",
   "execution_count": null,
   "metadata": {},
   "outputs": [],
   "source": [
    "x_label=\"Year\"\n",
    "y_label=\"Revenue\"\n",
    "title=\"Yearly Revenue of GM from 1995 to 2005\"\n",
    "myplot(df_GM.year,df_GM.revenue,x_label,y_label,title)\n",
    "\n",
    "x_label=\"Year\"\n",
    "y_label=\"Profit\"\n",
    "title=\"Yearly Profit of GM from 1995 to 2005\"\n",
    "myplot(df_GM.year,df_GM.profit,x_label,y_label,title)"
   ]
  },
  {
   "cell_type": "markdown",
   "metadata": {},
   "source": [
    "# Create a new df for company - \"Exxon Mobil\" and make comparative plots  with GM"
   ]
  },
  {
   "cell_type": "code",
   "execution_count": null,
   "metadata": {},
   "outputs": [],
   "source": []
  }
 ],
 "metadata": {
  "kernelspec": {
   "display_name": "Python 3",
   "language": "python",
   "name": "python3"
  },
  "language_info": {
   "codemirror_mode": {
    "name": "ipython",
    "version": 3
   },
   "file_extension": ".py",
   "mimetype": "text/x-python",
   "name": "python",
   "nbconvert_exporter": "python",
   "pygments_lexer": "ipython3",
   "version": "3.7.1"
  }
 },
 "nbformat": 4,
 "nbformat_minor": 2
}
